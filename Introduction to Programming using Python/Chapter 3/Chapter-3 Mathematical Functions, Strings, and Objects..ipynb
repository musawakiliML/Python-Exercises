{
 "cells": [
  {
   "cell_type": "markdown",
   "metadata": {},
   "source": [
    "# Programming Exercises"
   ]
  },
  {
   "cell_type": "markdown",
   "metadata": {},
   "source": [
    "3.1 (Geometry: area of a pentagon) Write a program that prompts the user to enter the length from the center of a pentagon to a vertex and computes the area of the pen- tagon. \n",
    "The formula for computing the area of a pentagon is\n",
    "\n",
    "        Area = (3 * (3 ** 0.5) / 2) * s ** 0.5\n",
    "        \n",
    "where s is the length of a side. The side can be computed using the formula \n",
    "\n",
    "        s = 2 * radius * sin(pi / 5),\n",
    "        \n",
    "where r is the length from the center of a pentagon to a vertex."
   ]
  },
  {
   "cell_type": "code",
   "execution_count": 9,
   "metadata": {},
   "outputs": [
    {
     "name": "stdout",
     "output_type": "stream",
     "text": [
      "Enter the length from the center to a vertex:5.5\n",
      "The Area of the pentagon is 108.61120381651374\n"
     ]
    }
   ],
   "source": [
    "# Getting math libary to use sin() method\n",
    "import math\n",
    "\n",
    "# get user input\n",
    "length = eval(input(\"Enter the length from the center to a vertex:\"))\n",
    "\n",
    "# Calculating the area\n",
    "s = 2 * length * math.sin(math.pi / 5 )\n",
    "area = (3 * math.sqrt(3) / 2) * (s ** 2)\n",
    "\n",
    "# Displaying Results\n",
    "print(f\"The Area of the pentagon is {area}\")"
   ]
  },
  {
   "cell_type": "markdown",
   "metadata": {},
   "source": [
    "*3.2 (Geometry: great circle distance) The great circle distance is the distance between two points on the surface of a sphere. \n",
    "\n",
    "Let (x1, y1) and (x2, y2) be the geographical latitude and longitude of two points. \n",
    "The great circle distance between the two points can be computed using the following formula:\n",
    "    \n",
    "    d= radius * arccos(sin(x1) * sin(x2) + cos(x1) * cos(x2) * cos(y1 - y2))\n",
    "    \n",
    "Write a program that prompts the user to enter the latitude and longitude of two points on the earth in degrees and displays its great circle distance. \n",
    "\n",
    "The average earth radius is 6,371.01 km. Note that you need to convert the degrees into radians using the math.radians function since the Python trigonometric functions use radians. \n",
    "\n",
    "The latitude and longitude degrees in the formula are for north and west. \n",
    "Use negative to indicate south and east degrees. "
   ]
  },
  {
   "cell_type": "code",
   "execution_count": 11,
   "metadata": {},
   "outputs": [
    {
     "name": "stdout",
     "output_type": "stream",
     "text": [
      "Enter point 1 (latitude and longitude) in degrees:39.55,-116.25\n",
      "Enter point 2 (latitude and longitude) in degrees:41.5,87.37\n",
      "The distance between the two points is 10691.79183231593 km\n"
     ]
    }
   ],
   "source": [
    "import math\n",
    "\n",
    "# Get input from user\n",
    "latitude_1, longitude_1 = eval(input(\"Enter point 1 (latitude and longitude) in degrees:\"))\n",
    "latitude_2, longitude_2 = eval(input(\"Enter point 2 (latitude and longitude) in degrees:\"))\n",
    "\n",
    "AVG_EARTH_RADIUS = 6371.01 # declaring average earth radius\n",
    "\n",
    "# convert degrees to radians both latitude and longitude\n",
    "latitude_1 = math.radians(latitude_1)\n",
    "latitude_2 = math.radians(latitude_2)\n",
    "longitude_1 = math.radians(longitude_1)\n",
    "longitude_2 = math.radians(longitude_2)\n",
    "\n",
    "# calculate great circle distance\n",
    "d = AVG_EARTH_RADIUS * math.acos(math.sin(latitude_1) * math.sin(latitude_2) + math.cos(latitude_1) * math.cos(latitude_2) * math.cos(longitude_1 - longitude_2))\n",
    "\n",
    "# Displaying Result \n",
    "print(f\"The distance between the two points is {d} km\")\n"
   ]
  },
  {
   "cell_type": "markdown",
   "metadata": {},
   "source": [
    "*3.3 (Geography: estimate areas) Find the GPS locations for Atlanta, Georgia; Orlando, Florida; Savannah, Georgia; and Charlotte, North Carolina from www.gps-data-team.com/map/ and compute the estimated area enclosed by these four cities. (Hint: Use the formula in Programming Exercise 3.2 to compute the distance between two cities. Divide the polygon into two triangles and use the for- mula in Programming Exercise 2.14 to compute the area of a triangle.)"
   ]
  },
  {
   "cell_type": "code",
   "execution_count": 21,
   "metadata": {},
   "outputs": [
    {
     "name": "stdout",
     "output_type": "stream",
     "text": [
      "The Area Enclosed By 4 Cities 261.6564538056885 km\n"
     ]
    }
   ],
   "source": [
    "import math\n",
    "\n",
    "# locations based on latitude and longitude of the states\n",
    "x1 = 51.5138505182\n",
    "y1 = -0.15690922737098845\n",
    "\n",
    "x2 = 28.5383355\n",
    "y2 = -81.37923649999999\n",
    "\n",
    "x3 = 32.0835407\n",
    "y3 = -81.09983419999998\n",
    "\n",
    "x4 = 35.2270869\n",
    "y4 = -80.84312669999997\n",
    "\n",
    "# Calculating the sides and area\n",
    "side1 = math.sqrt(math.pow(x1 - x2, 2) + math.pow(y1 - y2, 2))\n",
    "side2 = math.sqrt(math.pow(x2 - x3, 2) + math.pow(y2 - y3, 2))\n",
    "side3 = math.sqrt(math.pow(x1 - x3, 2) + math.pow(y1 - y3, 2))\n",
    "\n",
    "s = (side1 + side2 + side3) / 2\n",
    "area = math.sqrt(s * (s - side1) * (s - side2) * (s - side3))\n",
    "\n",
    "side1 = math.sqrt(math.pow(x1 - x3, 2) + math.pow(y1 - y2, 2))\n",
    "side2 = math.sqrt(math.pow(x4 - x3, 2) + math.pow(y4 - y3, 2))\n",
    "side3 = math.sqrt(math.pow(x1 - x4, 2) + math.pow(y1 - y4, 2))\n",
    "\n",
    "s = (side1 + side2 + side3) / 2\n",
    "\n",
    "area = math.sqrt(s * (s - side1) * (s - side2) * (s - side3)) + area\n",
    "\n",
    "# displaying the results\n",
    "print(f\"The Area Enclosed By 4 Cities {area} km\")\n",
    "\n"
   ]
  },
  {
   "cell_type": "markdown",
   "metadata": {},
   "source": [
    "3.4 (Geometry: area of a pentagon) The area of a pentagon can be computed using the following formula (s is the length of a side):\n",
    "        \n",
    "        area = (5 * s^2) / 4 * tan(pi / 5)\n",
    "        \n",
    "Write a program that prompts the user to enter the side of a pentagon and displays the area. "
   ]
  },
  {
   "cell_type": "code",
   "execution_count": 22,
   "metadata": {},
   "outputs": [
    {
     "name": "stdout",
     "output_type": "stream",
     "text": [
      "Enter the side:5.5\n",
      "The area of the pentagon is 52.04444136781625\n"
     ]
    }
   ],
   "source": [
    "import math\n",
    "\n",
    "# Get user Input for the side\n",
    "side = eval(input(\"Enter the side:\"))\n",
    "\n",
    "# Calculate the area of the pentagon\n",
    "area = (5 * math.pow(side, 2)) / (4 * math.tan(math.pi / 5))\n",
    "\n",
    "# Displaying The results\n",
    "print(f\"The area of the pentagon is {area}\")"
   ]
  },
  {
   "cell_type": "markdown",
   "metadata": {},
   "source": [
    "*3.5 (Geometry: area of a regular polygon) A regular polygon is an n-sided polygon in which all sides are of the same length and all angles have the same degree (i.e., the polygon is both equilateral and equiangular). The formula for computing the area of a regular polygon is\n",
    "\n",
    "             area = (n * s^2) / 4 * tan(pi / n)\n",
    "\n",
    "Here, s is the length of a side. Write a program that prompts the user to enter the number of sides and their length of a regular polygon and displays its area."
   ]
  },
  {
   "cell_type": "code",
   "execution_count": 24,
   "metadata": {},
   "outputs": [
    {
     "name": "stdout",
     "output_type": "stream",
     "text": [
      "Enter the number of sides:5\n",
      "Enter the side:6.5\n",
      "The Area of the polygon is 72.69017017488385\n"
     ]
    }
   ],
   "source": [
    "import math\n",
    "\n",
    "# Get User input\n",
    "number_of_sides = eval(input(\"Enter the number of sides:\"))\n",
    "sides = eval(input(\"Enter the side:\"))\n",
    "\n",
    "# Calculating the area of the pentagon\n",
    "area = (number_of_sides * math.pow(sides, 2)) / (4 * math.tan(math.pi / number_of_sides))\n",
    "\n",
    "# Displaying the results\n",
    "print(f\"The Area of the polygon is {area}\")"
   ]
  },
  {
   "cell_type": "markdown",
   "metadata": {},
   "source": [
    "*3.6 (Find the character of an ASCII code) Write a program that receives an ASCII code (an integer between 0 and 127) and displays its character. For example, if the user enters 97, the program displays the character a."
   ]
  },
  {
   "cell_type": "code",
   "execution_count": 30,
   "metadata": {},
   "outputs": [
    {
     "name": "stdout",
     "output_type": "stream",
     "text": [
      "Enter ASCII Code:97\n",
      "The ASCII Code 97 is Character 'a'\n"
     ]
    }
   ],
   "source": [
    "# Get user character\n",
    "get_ascii_code = eval(input(\"Enter ASCII Code:\"))\n",
    "\n",
    "# Convert the ASCII code to Character\n",
    "character = chr(get_ascii_code)\n",
    "\n",
    "# Displaying the results\n",
    "print(f\"The ASCII Code {get_ascii_code} is Character '{character}'\")"
   ]
  },
  {
   "cell_type": "markdown",
   "metadata": {},
   "source": [
    "3.7 (Random character) Write a program that displays a random uppercase letter using the time.time() function."
   ]
  },
  {
   "cell_type": "code",
   "execution_count": 72,
   "metadata": {},
   "outputs": [
    {
     "name": "stdout",
     "output_type": "stream",
     "text": [
      "Random Character:I\n"
     ]
    }
   ],
   "source": [
    "# getting time module\n",
    "import time\n",
    "\n",
    "# get the random time value in integer\n",
    "t = int(time.time())\n",
    "\n",
    "# getting a random character by using ord and chr function\n",
    "random_character = chr(ord('A') + t % (ord('Z') - ord('A') + 1))\n",
    "\n",
    "# Displaying the random Character\n",
    "print(f\"Random Character:{random_character}\")"
   ]
  },
  {
   "cell_type": "markdown",
   "metadata": {},
   "source": [
    "*3.8 (Financial application: monetary units) Rewrite Listing 3.4, ComputeChange.py, to fix the possible loss of accuracy when converting a float value to an int value. Enter the input as an integer whose last two digits represent the cents. For exam- ple, the input 1156 represents 11 dollars and 56 cents."
   ]
  },
  {
   "cell_type": "code",
   "execution_count": 73,
   "metadata": {},
   "outputs": [
    {
     "name": "stdout",
     "output_type": "stream",
     "text": [
      "Enter an amount, for example, 1156: 1156\n",
      "Your amount 1 consists of\n",
      " \t 11 dollars\n",
      " \t 2 quarters\n",
      " \t 0 dimes\n",
      " \t 1 nickels\n",
      " \t 1 pennies\n"
     ]
    }
   ],
   "source": [
    "# get user input\n",
    "amount = int(input(\"Enter an amount, for example, 1156: \"))\n",
    "\n",
    "# Calculate the monetary units\n",
    "numberOfOneDollars = amount // 100\n",
    "amount = amount % 100\n",
    "numberOfQuarters = amount // 25\n",
    "amount = amount % 25\n",
    "numberOfDimes = amount // 10\n",
    "amount = amount % 10\n",
    "numberOfNickels = amount // 5\n",
    "amount = amount % 5\n",
    "numberOfPennies = amount\n",
    "\n",
    "# Displaying the result\n",
    "print(\"Your amount\", amount, \"consists of\\n\",\n",
    "      \"\\t\", numberOfOneDollars, \"dollars\\n\",\n",
    "      \"\\t\", numberOfQuarters, \"quarters\\n\",\n",
    "      \"\\t\", numberOfDimes, \"dimes\\n\",\n",
    "      \"\\t\", numberOfNickels, \"nickels\\n\",\n",
    "      \"\\t\", numberOfPennies, \"pennies\")\n"
   ]
  },
  {
   "cell_type": "markdown",
   "metadata": {},
   "source": [
    "*3.9 (Financial application: payroll) Write a program that reads the following information and prints a payroll statement:\n",
    "\n",
    "        Employee’s name (e.g., Smith)\n",
    "        Number of hours worked in a week (e.g., 10)\n",
    "        Hourly pay rate (e.g., 9.75)\n",
    "        Federal tax withholding rate (e.g., 20%) \n",
    "        State tax withholding rate (e.g., 9%)\n",
    "        "
   ]
  },
  {
   "cell_type": "code",
   "execution_count": 88,
   "metadata": {},
   "outputs": [
    {
     "name": "stdout",
     "output_type": "stream",
     "text": [
      "Enter employee's name:Smith\n",
      "Enter number of hours worked in a week:10\n",
      "Enter hourly pay rate:9.75\n",
      "Enter federal tax withholding rate:0.20\n",
      "Enter state tax withholding rate:0.09\n",
      "Employee Name:Smith\n",
      "Hours Worked:10.0\n",
      "Pay Rate:$9.75\n",
      "Gross Pay:$97.5\n",
      "Deductions:\n",
      "\tFederal Withholding (20.0%):$19.5\n",
      "\tState Withholding (9.0%):$8.775\n",
      "\tTotal Deducation:$28.275\n",
      "Net Pay:$69.225\n"
     ]
    }
   ],
   "source": [
    "# Get user input for payroll\n",
    "employee_name = input(\"Enter employee's name:\")\n",
    "number_of_hours = eval(input(\"Enter number of hours worked in a week:\"))\n",
    "hourly_pay_rate = eval(input(\"Enter hourly pay rate:\"))\n",
    "federal_tax_withholding_rate = eval(input(\"Enter federal tax withholding rate:\"))\n",
    "state_tax_withholding_rate = eval(input(\"Enter state tax withholding rate:\"))\n",
    "\n",
    "# Calculating the payroll\n",
    "gross_pay = number_of_hours * hourly_pay_rate\n",
    "federal_tax_withholding = 0.2 * gross_pay\n",
    "state_tax_withholding = state_tax_withholding_rate * gross_pay\n",
    "total = federal_tax_withholding + state_tax_withholding\n",
    "net = gross_pay - total\n",
    "\n",
    "# Displaying Results\n",
    "print(f\"Employee Name:{employee_name}\")\n",
    "print(f\"Hours Worked:{float(number_of_hours)}\")\n",
    "print(f\"Pay Rate:${float(hourly_pay_rate)}\")\n",
    "print(f\"Gross Pay:${float(gross_pay)}\")\n",
    "print(f\"Deductions:\")\n",
    "print(f\"\\tFederal Withholding (20.0%):${federal_tax_withholding}\")\n",
    "print(f\"\\tState Withholding (9.0%):${state_tax_withholding}\")\n",
    "print(f\"\\tTotal Deducation:${total}\")\n",
    "print(f\"Net Pay:${net}\")"
   ]
  },
  {
   "cell_type": "markdown",
   "metadata": {},
   "source": [
    "3.10 (Reverse number) Write a program that prompts the user to enter a four-digit integer and displays the number in reverse order. "
   ]
  },
  {
   "cell_type": "code",
   "execution_count": 98,
   "metadata": {},
   "outputs": [
    {
     "name": "stdout",
     "output_type": "stream",
     "text": [
      "Enter a number:1234\n",
      "The Number:1234 is\n",
      "4321"
     ]
    }
   ],
   "source": [
    "# get user input\n",
    "number = eval(input(\"Enter a number:\"))\n",
    "\n",
    "# Reverse number\n",
    "first_digit = number // 1000\n",
    "second_digit = number // 100 % 10\n",
    "third_digit = number % 100 // 10\n",
    "fourth_digit = number % 10 \n",
    "# Display Result\n",
    "print(f\"The Number:{number} is\")\n",
    "print(fourth_digit, end=\"\")\n",
    "print(third_digit, end=\"\")\n",
    "print(second_digit, end=\"\")\n",
    "print(first_digit, end=\"\")"
   ]
  },
  {
   "cell_type": "markdown",
   "metadata": {},
   "source": [
    "# END OF EXERCISES"
   ]
  }
 ],
 "metadata": {
  "kernelspec": {
   "display_name": "Python 3",
   "language": "python",
   "name": "python3"
  },
  "language_info": {
   "codemirror_mode": {
    "name": "ipython",
    "version": 3
   },
   "file_extension": ".py",
   "mimetype": "text/x-python",
   "name": "python",
   "nbconvert_exporter": "python",
   "pygments_lexer": "ipython3",
   "version": "3.8.5"
  }
 },
 "nbformat": 4,
 "nbformat_minor": 4
}
