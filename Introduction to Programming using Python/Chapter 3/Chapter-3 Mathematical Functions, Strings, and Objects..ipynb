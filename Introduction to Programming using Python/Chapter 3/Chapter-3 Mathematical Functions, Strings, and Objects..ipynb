{
 "cells": [
  {
   "cell_type": "markdown",
   "metadata": {},
   "source": [
    "# Programming Exercises"
   ]
  },
  {
   "cell_type": "markdown",
   "metadata": {},
   "source": [
    "3.1 (Geometry: area of a pentagon) Write a program that prompts the user to enter the length from the center of a pentagon to a vertex and computes the area of the pen- tagon. \n",
    "The formula for computing the area of a pentagon is\n",
    "\n",
    "        Area = (3 * (3 ** 0.5) / 2) * s ** 0.5\n",
    "        \n",
    "where s is the length of a side. The side can be computed using the formula \n",
    "\n",
    "        s = 2 * radius * sin(pi / 5),\n",
    "        \n",
    "where r is the length from the center of a pentagon to a vertex."
   ]
  },
  {
   "cell_type": "code",
   "execution_count": 9,
   "metadata": {},
   "outputs": [
    {
     "name": "stdout",
     "output_type": "stream",
     "text": [
      "Enter the length from the center to a vertex:5.5\n",
      "The Area of the pentagon is 108.61120381651374\n"
     ]
    }
   ],
   "source": [
    "# Getting math libary to use sin() method\n",
    "import math\n",
    "\n",
    "# get user input\n",
    "length = eval(input(\"Enter the length from the center to a vertex:\"))\n",
    "\n",
    "# Calculating the area\n",
    "s = 2 * length * math.sin(math.pi / 5 )\n",
    "area = (3 * math.sqrt(3) / 2) * (s ** 2)\n",
    "\n",
    "# Displaying Results\n",
    "print(f\"The Area of the pentagon is {area}\")"
   ]
  },
  {
   "cell_type": "markdown",
   "metadata": {},
   "source": [
    "*3.2 (Geometry: great circle distance) The great circle distance is the distance between two points on the surface of a sphere. \n",
    "\n",
    "Let (x1, y1) and (x2, y2) be the geographical latitude and longitude of two points. \n",
    "The great circle distance between the two points can be computed using the following formula:\n",
    "    \n",
    "    d=radius*arccos(sin(x)*sin(x)+cos(x)*cos(x)*cos(y -y)) 121212\n",
    "    \n",
    "Write a program that prompts the user to enter the latitude and longitude of two points on the earth in degrees and displays its great circle distance. \n",
    "\n",
    "The average earth radius is 6,371.01 km. Note that you need to convert the degrees into radians using the math.radians function since the Python trigonometric functions use radians. \n",
    "\n",
    "The latitude and longitude degrees in the formula are for north and west. \n",
    "Use negative to indicate south and east degrees. "
   ]
  },
  {
   "cell_type": "code",
   "execution_count": null,
   "metadata": {},
   "outputs": [],
   "source": []
  }
 ],
 "metadata": {
  "kernelspec": {
   "display_name": "Python 3",
   "language": "python",
   "name": "python3"
  },
  "language_info": {
   "codemirror_mode": {
    "name": "ipython",
    "version": 3
   },
   "file_extension": ".py",
   "mimetype": "text/x-python",
   "name": "python",
   "nbconvert_exporter": "python",
   "pygments_lexer": "ipython3",
   "version": "3.8.5"
  }
 },
 "nbformat": 4,
 "nbformat_minor": 4
}
