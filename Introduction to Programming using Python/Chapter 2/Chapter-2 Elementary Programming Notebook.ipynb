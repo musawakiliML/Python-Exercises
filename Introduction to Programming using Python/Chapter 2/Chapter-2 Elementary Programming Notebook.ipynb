{
 "cells": [
  {
   "cell_type": "markdown",
   "metadata": {},
   "source": [
    "# Programming Exercises"
   ]
  },
  {
   "cell_type": "markdown",
   "metadata": {},
   "source": [
    "1.(Convert Celsius to Fahrenheit) Write a program that reads a Celsius degree from\n",
    "the console and converts it to Fahrenheit and displays the result. The formula for\n",
    "the conversion is as follows:\n",
    "\n",
    "    fahrenheit = (9 / 5) * celsius + 32"
   ]
  },
  {
   "cell_type": "code",
   "execution_count": 1,
   "metadata": {},
   "outputs": [
    {
     "name": "stdout",
     "output_type": "stream",
     "text": [
      "Enter Degree in Celsius:12\n",
      "12 Celsius is 53.6 Fahrenheit\n"
     ]
    }
   ],
   "source": [
    "# Takes in the celsius value from user\n",
    "celsius = input(\"Enter Degree in Celsius:\")\n",
    "\n",
    "# Computes the value of fahrenheit\n",
    "fahrenheit = (9 / 5) * int(celsius) + 32\n",
    "\n",
    "#Displays the result\n",
    "print(\"{} Celsius is {} Fahrenheit\".format(celsius, fahrenheit))"
   ]
  },
  {
   "cell_type": "markdown",
   "metadata": {},
   "source": [
    "2.(Compute the volume of a cylinder) Write a program that reads in the radius and\n",
    "length of a cylinder and computes the area and volume using the following formulas:\n",
    "\n",
    "    area = radius x radius x π\n",
    "\n",
    "    volume = area * length"
   ]
  },
  {
   "cell_type": "code",
   "execution_count": 8,
   "metadata": {},
   "outputs": [
    {
     "name": "stdout",
     "output_type": "stream",
     "text": [
      "Enter Radius and Lenght of the Cylinder:5.5, 12\n",
      "The Area Is 95.0330975\n",
      "The Volume Is 1140.39717\n"
     ]
    }
   ],
   "source": [
    "# Takes in the Radius and Length\n",
    "radius, lenght = eval(input(\"Enter Radius and Lenght of the Cylinder:\"))\n",
    "\n",
    "# Declaring a constant Pi value\n",
    "PI = 3.14159\n",
    "\n",
    "# Computes The Area and Volume\n",
    "area = radius * radius * PI\n",
    "volume = area * lenght\n",
    "\n",
    "# Displays The Result\n",
    "print(\"The Area Is\", area)\n",
    "print(\"The Volume Is\",volume)"
   ]
  },
  {
   "cell_type": "markdown",
   "metadata": {},
   "source": [
    "3. (Convert feet into meters) Write a program that reads a number in feet, converts it\n",
    "to meters, and displays the result. One foot is 0.305 meters."
   ]
  },
  {
   "cell_type": "code",
   "execution_count": 2,
   "metadata": {},
   "outputs": [
    {
     "name": "stdout",
     "output_type": "stream",
     "text": [
      "Enter a value for feet:89\n",
      "89 Feet is 27.145 Meters\n"
     ]
    }
   ],
   "source": [
    "# Getting feet value from the user\n",
    "feet = eval(input(\"Enter a value for feet:\"))\n",
    "\n",
    "# Converting feet to meters\n",
    "meters = feet * 0.305\n",
    "\n",
    "# Displaying Result\n",
    "print(\"{} Feet is {} Meters\".format(feet, meters))"
   ]
  },
  {
   "cell_type": "markdown",
   "metadata": {},
   "source": [
    "4. (Convert pounds into kilograms) Write a program that converts pounds into\n",
    "kilograms. The program prompts the user to enter a value in pounds, converts it to\n",
    "kilograms, and displays the result. One pound is 0.454 kilograms."
   ]
  },
  {
   "cell_type": "code",
   "execution_count": 3,
   "metadata": {},
   "outputs": [
    {
     "name": "stdout",
     "output_type": "stream",
     "text": [
      "Enter a value in pounds:55.5\n",
      "55.5 Pounds is 25.197 Kilograms\n"
     ]
    }
   ],
   "source": [
    "# Prompting the user to enter value in pounds\n",
    "pounds = eval(input(\"Enter a value in pounds:\"))\n",
    "\n",
    "# Converting pounds to kilograms\n",
    "kilograms = pounds * 0.454\n",
    "\n",
    "#Displays the result\n",
    "print(\"{} Pounds is {} Kilograms\".format(pounds, kilograms))"
   ]
  },
  {
   "cell_type": "markdown",
   "metadata": {},
   "source": [
    "*5.(Financial application: calculate tips) Write a program that reads the subtotal and\n",
    "the gratuity rate and computes the gratuity and total. For example, if the user\n",
    "enters 10 for the subtotal and 15% for the gratuity rate, the program displays 1.5\n",
    "as the gratuity and 11.5 as the total."
   ]
  },
  {
   "cell_type": "code",
   "execution_count": 4,
   "metadata": {},
   "outputs": [
    {
     "name": "stdout",
     "output_type": "stream",
     "text": [
      "Enter The Subtotal and a Gratuity rate:15.69, 15\n",
      "The Gratuity is 2.3535 and the total is18.043499999999998\n"
     ]
    }
   ],
   "source": [
    "# Getting Subtotal and gratuity rate from the user\n",
    "subtotal, gratuity_rate = eval(input(\"Enter The Subtotal and a Gratuity rate:\"))\n",
    "\n",
    "# Computing Gratuity and total amount\n",
    "gratuity = (gratuity_rate / 100) * subtotal\n",
    "total = subtotal + gratuity\n",
    "\n",
    "# Displaying the results\n",
    "print(\"The Gratuity is {} and the total is {}\".format(gratuity,total))"
   ]
  },
  {
   "cell_type": "markdown",
   "metadata": {},
   "source": [
    "**6. (Sum the digits in an integer) Write a program that reads an integer between 0 and\n",
    "1000 and adds all the digits in the integer. For example, if an integer is 932, the\n",
    "sum of all its digits is 14. (Hint: Use the % operator to extract digits, and use the //\n",
    "operator to remove the extracted digit. For instance, 932 % 10 = 2 and 932 //\n",
    "10 = 93.)"
   ]
  },
  {
   "cell_type": "code",
   "execution_count": 5,
   "metadata": {},
   "outputs": [
    {
     "name": "stdout",
     "output_type": "stream",
     "text": [
      "Enter a digit between 0 and 1000:932\n",
      "The Digits are 9 3 2\n",
      "Their Sum Is: 14\n"
     ]
    }
   ],
   "source": [
    "# Getting a digit between 0 and 1000 from the user\n",
    "digits = eval(input(\"Enter a digit between 0 and 1000:\"))\n",
    "\n",
    "# Getting digits one by one\n",
    "first_number = digits // 100\n",
    "second_number = (digits // 10) % 10\n",
    "third_number = digits % 10\n",
    "\n",
    "# Summing up the digits\n",
    "sum_of_digits = first_number + second_number + third_number\n",
    "\n",
    "# Displaying the result\n",
    "print(\"The Digits are {} {} {}\".format(first_number,second_number,third_number))\n",
    "print(\"Their Sum Is: {}\".format(sum_of_digits))"
   ]
  },
  {
   "cell_type": "markdown",
   "metadata": {},
   "source": [
    "**7. (Find the number of years and days) Write a program that prompts the user to\n",
    "enter the minutes (e.g., 1 billion), and displays the number of years and days for\n",
    "the minutes. For simplicity, assume a year has 365 days."
   ]
  },
  {
   "cell_type": "code",
   "execution_count": 1,
   "metadata": {},
   "outputs": [
    {
     "name": "stdout",
     "output_type": "stream",
     "text": [
      "Enter the Minutes:1000000000\n",
      "1000000000 Minutes is Approximately 1902 Years and 214 days\n"
     ]
    }
   ],
   "source": [
    "#Taking values from user\n",
    "minutes = eval(input(\"Enter the Minutes:\"))\n",
    "\n",
    "# Computing number of Years and Days\n",
    "total_minutes_per_day = 60 * 24\n",
    "minutes_per_year = total_minutes_per_day * 365\n",
    "number_of_years = minutes // minutes_per_year\n",
    "days = minutes % minutes_per_year // 1440\n",
    "\n",
    "#Displaying Results\n",
    "print(\"{} Minutes is Approximately {} Years and {} days\".format(minutes, number_of_years,days))"
   ]
  },
  {
   "cell_type": "markdown",
   "metadata": {},
   "source": [
    "8.(Science: calculate energy) Write a program that calculates the energy needed to\n",
    "heat water from an initial temperature to a final temperature. Your program should \n",
    "prompt the user to enter the amount of water in kilograms and the initial and final\n",
    "temperatures of the water. The formula to compute the energy is\n",
    "\n",
    "    Q = M x (finalTemperature – initialTemperature) x 4184\n",
    "\n",
    "where M is the weight of water in kilograms, temperatures are in degrees Celsius,\n",
    "and energy Q is measured in joules."
   ]
  },
  {
   "cell_type": "code",
   "execution_count": 1,
   "metadata": {},
   "outputs": [
    {
     "name": "stdout",
     "output_type": "stream",
     "text": [
      "Enter the amount of water in kilograms:55.5\n",
      "Enter The Initial Temperature:3.5\n",
      "Enter the Final Temperature:10.5\n",
      "The Energy Needed Is:1625484.0\n"
     ]
    }
   ],
   "source": [
    "# Taking Values from the user\n",
    "amount_of_water = eval(input(\"Enter the amount of water in kilograms:\"))\n",
    "initial_temperature = eval(input(\"Enter The Initial Temperature:\"))\n",
    "final_temperature = eval(input(\"Enter the Final Temperature:\"))\n",
    "\n",
    "# Computing the energy required to heat the water\n",
    "energy = amount_of_water * (final_temperature - initial_temperature) * 4184\n",
    "\n",
    "# Displaying Results\n",
    "print(\"The Energy Needed Is:{}\".format(energy))"
   ]
  },
  {
   "cell_type": "markdown",
   "metadata": {},
   "source": [
    "*9.(Science: wind-chill temperature) How cold is it outside? The temperature alone is\n",
    "not enough to provide the answer. Other factors including wind speed, relative\n",
    "humidity, and sunshine play important roles in determining coldness outside. In\n",
    "2001, the National Weather Service (NWS) implemented the new wind-chill temperature\n",
    "to measure the coldness using temperature and wind speed. The formula\n",
    "is given as follows:\n",
    "\n",
    "    twc = 35.74 + 0.6215ta - 35.75v^0.16 + 0.4275ta v^0.16\n",
    "    \n",
    "where ta is the outside temperature measured in degrees Fahrenheit and v is the\n",
    "speed measured in miles per hour.twc is the wind-chill temperature. The formula\n",
    "cannot be used for wind speeds below 2 mph or for temperatures below -58°F or\n",
    "above 41°F.\n",
    "Write a program that prompts the user to enter a temperature between -58°F and\n",
    "41°F and a wind speed greater than or equal to 2 and displays the wind-chill temperature."
   ]
  },
  {
   "cell_type": "code",
   "execution_count": 2,
   "metadata": {},
   "outputs": [
    {
     "name": "stdout",
     "output_type": "stream",
     "text": [
      "Enter the temperature in fahrenheit between -58 and 41:5.3\n",
      "Enter the wind speed(above 2) in miles per hour:6\n",
      "The Wind Chill index is:-5.567068455881625\n"
     ]
    }
   ],
   "source": [
    "# Taking Values From The User\n",
    "temperature = eval(input(\"Enter the temperature in fahrenheit between -58 and 41:\"))\n",
    "wind_speed = eval(input(\"Enter the wind speed(above 2) in miles per hour:\"))\n",
    "\n",
    "# Computing the Wind-chill Temperature\n",
    "wind_chill_temperature = 35.74 + 0.6215 * temperature - 35.75 * wind_speed ** 0.16 + 0.4275 * temperature * wind_speed ** 0.16\n",
    "\n",
    "# Displaying Results\n",
    "print(\"The Wind Chill index is:{}\".format(wind_chill_temperature))"
   ]
  },
  {
   "cell_type": "markdown",
   "metadata": {},
   "source": [
    "*10.(Physics: find runway length) Given an airplane’s acceleration a and take-off\n",
    "speed v, you can compute the minimum runway length needed for an airplane to\n",
    "take off using the following formula: \n",
    "\n",
    "    Lenght = (v x v) / 2 x a.\n",
    "\n",
    "Write a program that prompts the user to enter v in meters/second (m/s) and the\n",
    "acceleration a in meters/second squared and displays the minimum runway\n",
    "length."
   ]
  },
  {
   "cell_type": "code",
   "execution_count": 3,
   "metadata": {},
   "outputs": [
    {
     "name": "stdout",
     "output_type": "stream",
     "text": [
      "Enter the Speed and acceleration:60, 3.5\n",
      "The minimum runway length for this airplane is 514.2857142857143\n"
     ]
    }
   ],
   "source": [
    "# Prompting User for inputs\n",
    "speed, acceleration = eval(input(\"Enter the Speed and acceleration:\"))\n",
    "\n",
    "# Computing the runway length\n",
    "lenght = (speed ** 2) / (2 * acceleration)\n",
    "\n",
    "# Display Results\n",
    "print(\"The minimum runway length for this airplane is {}\".format(lenght))"
   ]
  },
  {
   "cell_type": "markdown",
   "metadata": {},
   "source": [
    "*11.(Financial application: investment amount) Suppose you want to deposit a\n",
    "certain amount of money into a savings account with a fixed annual interest rate.\n",
    "What amount do you need to deposit in order to have $5,000 in the account after\n",
    "three years? The initial deposit amount can be obtained using the following\n",
    "formula:\n",
    "\n",
    "    initialDepositAmount = finalAccountValue / (1 + monthlyInterestRate)^numberOfMonths\n",
    "    \n",
    "Write a program that prompts the user to enter final account value, annual interest\n",
    "rate in percent, and the number of years, and displays the initial deposit amount."
   ]
  },
  {
   "cell_type": "code",
   "execution_count": 4,
   "metadata": {},
   "outputs": [
    {
     "name": "stdout",
     "output_type": "stream",
     "text": [
      "Enter final account value:1000\n",
      "Enter annual interest rate in percent:4.25\n",
      "Enter Number Of Years:5\n",
      "Initial deposit value is 808.8639197424636\n"
     ]
    }
   ],
   "source": [
    "# Prompting User of inputs\n",
    "final_account_value = eval(input(\"Enter final account value:\"))\n",
    "annual_interest_rate = eval(input(\"Enter annual interest rate in percent:\"))\n",
    "number_of_years = eval(input(\"Enter Number Of Years:\"))\n",
    "\n",
    "# Computing the Investment Amount\n",
    "monthly_interest_rate = annual_interest_rate / 1200\n",
    "number_of_months = number_of_years * 12\n",
    "initial_deposit_amount = final_account_value / (1 + monthly_interest_rate) ** number_of_months\n",
    "\n",
    "# Displaying results\n",
    "print(\"Initial deposit value is {}\".format(initial_deposit_amount))\n"
   ]
  },
  {
   "cell_type": "markdown",
   "metadata": {},
   "source": [
    "12.(Print a table) Write a program that displays the following table:\n",
    "\n",
    "    a    b    a ** b\n",
    "    1    2     1\n",
    "    2    3     8\n",
    "    3    4     81\n",
    "    4    5     1024\n",
    "    5    6     15625"
   ]
  },
  {
   "cell_type": "code",
   "execution_count": 32,
   "metadata": {},
   "outputs": [
    {
     "name": "stdout",
     "output_type": "stream",
     "text": [
      "a \t b \t a**b\n",
      "1 \t 2 \t 1\n",
      "2 \t 3 \t 8\n",
      "3 \t 4 \t 81\n",
      "4 \t 5 \t 1024\n",
      "5 \t 6 \t 15625\n"
     ]
    }
   ],
   "source": [
    "# Displaying the result \n",
    "print(\"a \\t b \\t a**b\")\n",
    "print(\"1 \\t 2 \\t 1\")\n",
    "print(\"2 \\t 3 \\t 8\")\n",
    "print(\"3 \\t 4 \\t 81\")\n",
    "print(\"4 \\t 5 \\t 1024\")\n",
    "print(\"5 \\t 6 \\t 15625\")"
   ]
  },
  {
   "cell_type": "markdown",
   "metadata": {},
   "source": [
    "*13.(Split digits) Write a program that prompts the user to enter a four-digit integer\n",
    "and displays the number in reverse order."
   ]
  },
  {
   "cell_type": "code",
   "execution_count": 5,
   "metadata": {},
   "outputs": [
    {
     "name": "stdout",
     "output_type": "stream",
     "text": [
      "Enter a four digit number:3125\n",
      "The Numbers Are: 3 1 2 5\n"
     ]
    }
   ],
   "source": [
    "# Prompting User for input\n",
    "four_digit_number = eval(input(\"Enter a four digit number:\"))\n",
    "\n",
    "# Splitting digits\n",
    "first_digit = four_digit_number // 1000\n",
    "second_digit = (four_digit_number // 100) % 10\n",
    "third_digit = (four_digit_number % 100) // 10\n",
    "fourth_digit = (four_digit_number % 100) % 10\n",
    "\n",
    "# Displaying results\n",
    "print(\"The Numbers Are: {} {} {} {}\".format(first_digit,second_digit,third_digit,fourth_digit))"
   ]
  },
  {
   "cell_type": "markdown",
   "metadata": {},
   "source": [
    "*14.(Geometry: area of a triangle) Write a program that prompts the user to enter the\n",
    "three points (x1, y1), (x2, y2), and (x3, y3) of a triangle and displays its area.\n",
    "The formula for computing the area of a triangle is\n",
    "\n",
    "    s = (side1 + side2 + side3) / 2\n",
    "\n",
    "    area = (s(s - side1)(s - side2)(s - side3)) ** 0.5"
   ]
  },
  {
   "cell_type": "code",
   "execution_count": 5,
   "metadata": {},
   "outputs": [
    {
     "name": "stdout",
     "output_type": "stream",
     "text": [
      "Enter three points for a triangle:1.5, -3.4, 4.6, 5, 9.5, -3.4\n",
      "The Area of the Triangle is 33.600000000000016\n"
     ]
    }
   ],
   "source": [
    "# Get user input\n",
    "x1, y1, x2, y2, x3, y3 = eval(input(\"Enter three points for a triangle:\"))\n",
    "\n",
    "# Calculate the sides\n",
    "side1 = ((x1 - x2) ** 2 + (y1 - y2) ** 2) ** 0.5\n",
    "side2 = ((x1 - x3) ** 2 + (y1 - y3) ** 2) ** 0.5\n",
    "side3 = ((x2 - x3) ** 2 + (y2 - y3) ** 2) ** 0.5\n",
    "\n",
    "# compute s from sides and calculate area\n",
    "s = (side1 + side2 + side3) / 2\n",
    "area = (s * (s - side1) * (s - side2) * (s - side3)) ** 0.5\n",
    "\n",
    "# Displaying the results\n",
    "print(f\"The Area of the Triangle is {area}\")\n"
   ]
  },
  {
   "cell_type": "markdown",
   "metadata": {},
   "source": [
    "15.(Geometry: area of a hexagon) Write a program that prompts the user to enter the\n",
    "side of a hexagon and displays its area. The formula for computing the area of a\n",
    "hexagon is\n",
    "\n",
    "    Area = (3 * (3)**0.5 / 2) * s ** 2, \n",
    " where s is the length of a side."
   ]
  },
  {
   "cell_type": "code",
   "execution_count": 6,
   "metadata": {},
   "outputs": [
    {
     "name": "stdout",
     "output_type": "stream",
     "text": [
      "Enter the side:5.5\n",
      "The area of the hexagon is 78.59180539343781\n"
     ]
    }
   ],
   "source": [
    "# Prompting User for input values\n",
    "sides = eval(input(\"Enter the side:\"))\n",
    "\n",
    "# Calculating the area\n",
    "area = (3 * (3) ** 0.5 / 2) * sides ** 2\n",
    "\n",
    "# Displaying the results \n",
    "print(\"The area of the hexagon is {}\".format(area))"
   ]
  },
  {
   "cell_type": "markdown",
   "metadata": {},
   "source": [
    "16.(Physics: acceleration) Average acceleration is defined as the change of velocity\n",
    "divided by the time taken to make the change, as shown in the following formula:\n",
    "\n",
    "    a = (vf - vi) / t\n",
    "    \n",
    "Write a program that prompts the user to enter the starting velocity vi in\n",
    "meters/second, the ending velocity vf in meters/second, and the time span t in\n",
    "seconds, and displays the average acceleration."
   ]
  },
  {
   "cell_type": "code",
   "execution_count": 8,
   "metadata": {},
   "outputs": [
    {
     "name": "stdout",
     "output_type": "stream",
     "text": [
      "Enter the initial and final velocity in meters:5.5, 50.9\n",
      "Enter the time taken in seconds:4.5\n",
      "The Average Acceleration is 10.088888888888889\n"
     ]
    }
   ],
   "source": [
    "# Prompting user for input values\n",
    "initial_velocity, final_velocity = eval(input(\"Enter the initial and final velocity in meters:\"))\n",
    "time_taken = eval(input(\"Enter the time taken in seconds:\"))\n",
    "\n",
    "# Calculating acceleration\n",
    "acceleration = (final_velocity - initial_velocity) / time_taken\n",
    "\n",
    "# Displaying the average acceleration\n",
    "print(\"The Average Acceleration is {}\".format(acceleration))"
   ]
  },
  {
   "cell_type": "markdown",
   "metadata": {},
   "source": [
    "*17.(Health application: compute BMI) Body mass index (BMI) is a measure of health\n",
    "based on weight. It can be calculated by taking your weight in kilograms and\n",
    "dividing it by the square of your height in meters. Write a program that prompts\n",
    "the user to enter a weight in pounds and height in inches and displays the BMI.\n",
    "Note that one pound is 0.45359237 kilograms and one inch is 0.0254 meters."
   ]
  },
  {
   "cell_type": "code",
   "execution_count": 9,
   "metadata": {},
   "outputs": [
    {
     "name": "stdout",
     "output_type": "stream",
     "text": [
      "Enter Weight in pounds:95.5\n",
      "Enter Height in inches:50\n",
      "BMI is:26.857257942215885\n"
     ]
    }
   ],
   "source": [
    "# Prompting User for input values\n",
    "weight_in_pounds = eval(input(\"Enter Weight in pounds:\"))\n",
    "height_in_inches = eval(input(\"Enter Height in inches:\"))\n",
    "\n",
    "# Computing BMI\n",
    "weight_in_kilogram = weight_in_pounds * 0.45359237\n",
    "height_in_meters = height_in_inches * 0.0254\n",
    "\n",
    "BMI = weight_in_kilogram / height_in_meters ** 2\n",
    "\n",
    "# Displaying the BMI Result\n",
    "print(\"BMI is:{}\".format(BMI))"
   ]
  },
  {
   "cell_type": "markdown",
   "metadata": {},
   "source": [
    "*18.(Current time) Create a program that displays the\n",
    "current time in GMT. Revise the program so that it prompts the user to enter the\n",
    "time zone in hours away from (offset to) GMT and displays the time in the specified\n",
    "time zone."
   ]
  },
  {
   "cell_type": "code",
   "execution_count": 12,
   "metadata": {},
   "outputs": [
    {
     "name": "stdout",
     "output_type": "stream",
     "text": [
      "Enter the time zone Offset to GMT:1\n",
      "The Current Time is -:- 14 : 6 : 49 \n"
     ]
    }
   ],
   "source": [
    "import time\n",
    "# Prompting user for Time zone Input value\n",
    "timeZone = eval(input(\"Enter the time zone Offset to GMT:\"))\n",
    "\n",
    "# Getting Current time\n",
    "currentTime = time.time()\n",
    "\n",
    "# Getting Total Seconds\n",
    "totalSeconds = int(currentTime)\n",
    "\n",
    "# get current seconds\n",
    "currentSecond = totalSeconds % 60\n",
    "\n",
    "# obtaining total minutes\n",
    "totalMinutes = totalSeconds // 60\n",
    "\n",
    "# get current minutes\n",
    "currentMinute = totalMinutes % 60\n",
    "\n",
    "# obtaining total hours\n",
    "totalHours = totalMinutes // 60\n",
    "\n",
    "# get current hour\n",
    "currentHour = totalHours % 24\n",
    "\n",
    "# Obtaining GMT Offset time zone\n",
    "currentHour = currentHour + timeZone\n",
    "\n",
    "# Displaying Current time\n",
    "print(\"The Current Time is -:- {} : {} : {} \".format(currentHour,currentMinute,currentSecond))"
   ]
  },
  {
   "cell_type": "markdown",
   "metadata": {},
   "source": [
    "*19.(Financial application: calculate future investment value) Write a program that\n",
    "reads in an investment amount, the annual interest rate, and the number of years,\n",
    "and displays the future investment value using the following formula:\n",
    "\n",
    "    futureInvestmentValue = investmentAmount * (1 + monthlyInterestRate)^ numberOfMonths\n",
    "    \n",
    "For example, if you enter the amount 1000, an annual interest rate of 4.25%,\n",
    "and the number of years as 1, the future investment value is 1043.33"
   ]
  },
  {
   "cell_type": "code",
   "execution_count": 13,
   "metadata": {},
   "outputs": [
    {
     "name": "stdout",
     "output_type": "stream",
     "text": [
      "Enter Investment Amount:1000\n",
      "Enter Annual Interest rate:4.25\n",
      "Enter Number of years:1\n",
      "Accumulated value is: 1043.337716309617\n"
     ]
    }
   ],
   "source": [
    "# Reading Invesment amount from the user\n",
    "investment_amount = eval(input(\"Enter Investment Amount:\"))\n",
    "annual_interest_rate = eval(input(\"Enter Annual Interest rate:\"))\n",
    "number_of_years = eval(input(\"Enter Number of years:\"))\n",
    "\n",
    "#Calculating the future investment value\n",
    "monthly_interest_rate = annual_interest_rate / 1200\n",
    "number_of_months = number_of_years * 12\n",
    "future_investment_value = investment_amount * (1 + monthly_interest_rate) ** number_of_months\n",
    "\n",
    "# Displaying The future investment \n",
    "print(\"Accumulated value is: {}\".format(future_investment_value))"
   ]
  },
  {
   "cell_type": "markdown",
   "metadata": {},
   "source": [
    "**20.(Financial application: calculate interest) If you know the balance and the annual\n",
    "percentage interest rate, you can compute the interest on the next monthly payment\n",
    "using the following formula:\n",
    "\n",
    "    interest = balance * (annualInterestRate / 1200)\n",
    "\n",
    "Write a program that reads the balance and the annual percentage interest rate\n",
    "and displays the interest for the next month."
   ]
  },
  {
   "cell_type": "code",
   "execution_count": 14,
   "metadata": {},
   "outputs": [
    {
     "name": "stdout",
     "output_type": "stream",
     "text": [
      "Enter The balance and interest rate(e.g 3 for 3%):1000,3.5\n",
      "The Interest is: 2.916666666666667\n"
     ]
    }
   ],
   "source": [
    "# Prompting user for input values\n",
    "balance,interest_rate = eval(input(\"Enter The balance and interest rate(e.g 3 for 3%):\"))\n",
    "\n",
    "# calculating interest\n",
    "interest = balance * (interest_rate / 1200)\n",
    "\n",
    "# Displaying the interest as the value\n",
    "print(\"The Interest is: {}\".format(interest))"
   ]
  },
  {
   "cell_type": "markdown",
   "metadata": {},
   "source": [
    "**21.(Financial application: compound value) Suppose you save $100 each month into\n",
    "a savings account with an annual interest rate of 5%.Therefore, the monthly interest\n",
    "rate is 0.05 / 12 = 0.00417. After the first month, the value in the account\n",
    "becomes\n",
    "\n",
    "    100 * (1 + 0.00417) = 100.417\n",
    "    \n",
    "After the second month, the value in the account becomes\n",
    "\n",
    "    (100 + 100.417) * (1 + 0.00417) = 201.252\n",
    "    \n",
    "After the third month, the value in the account becomes\n",
    "\n",
    "    (100 + 201.252) * (1 + 0.00417) = 302.507\n",
    "\n",
    "and so on.\n",
    "\n",
    "Write a program that prompts the user to enter a monthly saving amount and\n",
    "displays the account value after the sixth month. Here is a sample run of the\n",
    "program:\n"
   ]
  },
  {
   "cell_type": "code",
   "execution_count": 15,
   "metadata": {},
   "outputs": [
    {
     "name": "stdout",
     "output_type": "stream",
     "text": [
      "Enter monthy saving amount:100\n",
      "After the sixth month, the account value is 608.8181155768638\n"
     ]
    }
   ],
   "source": [
    "# Prompting user for monthly saving amount\n",
    "monthly_saving_amount = eval(input(\"Enter monthy saving amount:\"))\n",
    "\n",
    "# Computing the compound value\n",
    "first_month = 100 * (1 + 0.00417)\n",
    "second_month = (100 + first_month) * (1 + 0.00417)\n",
    "third_month = (100 + second_month) * (1 + 0.00417)\n",
    "fourth_month = (100 + third_month) * (1 + 0.00417)\n",
    "fifth_month = (100 + fourth_month) * (1 + 0.00417)\n",
    "sixth_month = (100 + fifth_month) * (1 + 0.00417)\n",
    "\n",
    "# Displaying results\n",
    "print(\"After the sixth month, the account value is {}\".format(sixth_month))"
   ]
  },
  {
   "cell_type": "markdown",
   "metadata": {},
   "source": [
    "22.(Population projection) The US Census Bureau projects population based on the\n",
    "following assumptions:\n",
    "\n",
    "    One birth every 7 seconds\n",
    "    One death every 13 seconds\n",
    "    One new immigrant every 45 seconds\n",
    "\n",
    "\n",
    "Write a program to display the population for each of the next five years. Assume the\n",
    "current population is 312032486 and one year has 365 days. Hint: in Python, you\n",
    "can use integer division operator // to perform division. The result is an integer. For\n",
    "example, 5 // 4 is 1 (not 1.25) and 10 // 4 is 2 (not 2.5). Make the program to prompt the user to enter the number of years and displays the population after that many years."
   ]
  },
  {
   "cell_type": "code",
   "execution_count": 16,
   "metadata": {},
   "outputs": [
    {
     "name": "stdout",
     "output_type": "stream",
     "text": [
      "Enter the Number of years:5\n",
      "The Population in 5 years is 325932966\n"
     ]
    }
   ],
   "source": [
    "# Prompting user for input value\n",
    "number_of_years = eval(input(\"Enter the Number of years:\"))\n",
    "\n",
    "#Calculating the population \n",
    "total_seconds_per_year = 60 * 60 * 24 * 365\n",
    "total_births_per_year = total_seconds_per_year // 7\n",
    "total_deaths_per_year = total_seconds_per_year // 13\n",
    "total_immigrants_per_year = total_seconds_per_year // 45\n",
    "current_population = 312032486\n",
    "new_population = current_population + ((total_births_per_year + total_immigrants_per_year - total_deaths_per_year) * number_of_years)\n",
    "\n",
    "# Displaying results\n",
    "print(\"The Population in 5 years is {}\".format(new_population))"
   ]
  },
  {
   "cell_type": "markdown",
   "metadata": {},
   "source": [
    "# End Of Exercises"
   ]
  }
 ],
 "metadata": {
  "kernelspec": {
   "display_name": "Python 3",
   "language": "python",
   "name": "python3"
  },
  "language_info": {
   "codemirror_mode": {
    "name": "ipython",
    "version": 3
   },
   "file_extension": ".py",
   "mimetype": "text/x-python",
   "name": "python",
   "nbconvert_exporter": "python",
   "pygments_lexer": "ipython3",
   "version": "3.8.5"
  }
 },
 "nbformat": 4,
 "nbformat_minor": 2
}
