{
 "cells": [
  {
   "cell_type": "markdown",
   "metadata": {},
   "source": [
    "# Programming Exercises"
   ]
  },
  {
   "cell_type": "markdown",
   "metadata": {},
   "source": [
    "*4.1 (Algebra: solve quadratic equations) The two roots of a quadratic equation, for example, ax2 + bx + c = 0, can be obtained using the following formula:\n",
    "        \n",
    "        r1 = -b + sqrt(b^2 - 4*a*c) / 2*a and r2 = -b - sqrt(b^2 - 4*a*c) / 2*a\n",
    "        \n",
    "b^2 - 4*a*c is called the discriminant of the quadratic equation. If it is positive, the equation has two real roots. If it is zero, the equation has one root. If it is negative, the equation has no real roots.\n",
    "\n",
    "Write a program that prompts the user to enter values for a, b, and c and displays the result based on the discriminant. If the discriminant is positive, display two roots. If the discriminant is 0, display one root. Otherwise, display The equa- tion has no real roots. "
   ]
  },
  {
   "cell_type": "code",
   "execution_count": 6,
   "metadata": {},
   "outputs": [
    {
     "name": "stdout",
     "output_type": "stream",
     "text": [
      "Enter a:1.0\n",
      "Enter b:3\n",
      "Enter c:1\n",
      "The Equations Has Two Real Roots -0.3819660112501051 and -2.618033988749895.\n"
     ]
    }
   ],
   "source": [
    "import math \n",
    "\n",
    "# Get user input\n",
    "a = eval(input(\"Enter a:\"))\n",
    "b = eval(input(\"Enter b:\"))\n",
    "c = eval(input(\"Enter c:\"))\n",
    "\n",
    "# Compute the discriminant and the Roots\n",
    "r_1 = (-b + math.sqrt(math.pow(b,2) - 4 * a * c)) / (2 * a)\n",
    "r_2 = (-b - math.sqrt(math.pow(b,2) - 4 * a * c)) / (2 * a)\n",
    "\n",
    "discriminant = math.pow(b,2) - 4 * a * c\n",
    "\n",
    "# Displaying results using If selections\n",
    "if discriminant > 0:\n",
    "    print(f\"The Equations Has Two Real Roots {r_1} and {r_2}.\")\n",
    "    \n",
    "elif discriminant == 0:\n",
    "    print(f\"The Equation Has One Root {r_1}.\")\n",
    "    \n",
    "else:\n",
    "    print(\"The Equation Has No Real Roots.\")\n",
    "    "
   ]
  },
  {
   "cell_type": "markdown",
   "metadata": {},
   "source": [
    "*4.2 (Game: add three numbers) The program in Listing 4.1 generates two integers and prompts the user to enter the sum of these two integers. Revise the program to generate three single-digit integers and prompt the user to enter the sum of these three integers."
   ]
  },
  {
   "cell_type": "code",
   "execution_count": 9,
   "metadata": {},
   "outputs": [
    {
     "name": "stdout",
     "output_type": "stream",
     "text": [
      "What is 1 + 9 + 4?12\n",
      "1 + 9 + 4 = 12 is False\n"
     ]
    }
   ],
   "source": [
    "import random\n",
    "\n",
    "# get random numbers\n",
    "number_1 = random.randint(0,9)\n",
    "number_2 = random.randint(0,9)\n",
    "number_3 = random.randint(0,9)\n",
    "\n",
    "# Display question and accept user input\n",
    "answer = eval(input(f\"What is {number_1} + {number_2} + {number_3}?\"))\n",
    "\n",
    "# compare answer and display result\n",
    "if number_1 + number_2 + number_3 == answer:\n",
    "    print(f\"{number_1} + {number_2} + {number_3} = {answer} is {number_1 + number_2 + number_3 == answer}\")\n",
    "else:\n",
    "    print(f\"{number_1} + {number_2} + {number_3} = {answer} is {number_1 + number_2 + number_3 == answer}\")"
   ]
  },
  {
   "cell_type": "markdown",
   "metadata": {},
   "source": [
    "*4.3 (Algebra: Solve 2 x 2 Linear Eqautions) You can use the Cramer's to solve the following 2 x 2 system of linear equation:\n",
    "        \n",
    "        ax + by = e      x = (ed - bf) / (ad - bc)\n",
    "        cx + dy = f      y = (af - ec) / (ad - bc)\n",
    "        \n",
    "Write a program that prompts the user to enter a,b,c,d,e, and f and display the result. If ad - bc = 0,report that The Equation has no solution."
   ]
  },
  {
   "cell_type": "code",
   "execution_count": 10,
   "metadata": {},
   "outputs": [
    {
     "name": "stdout",
     "output_type": "stream",
     "text": [
      "Enter a, b, c, d, e, f:9.0,4.0,3.0,-5.0,-6.0,-21.0\n",
      "X is -2.0 and Y is 3.0.\n"
     ]
    }
   ],
   "source": [
    "# Get User Input\n",
    "a, b, c, d, e, f = eval(input(\"Enter a, b, c, d, e, f:\"))\n",
    "\n",
    "# Calculating the values of x and y\n",
    "x = (e * d - b * f) / (a * d - b * c)\n",
    "y = (a * f - e * c) / (a * d - b * c)\n",
    "\n",
    "if (a * d - b * c) == 0:\n",
    "    print(\"The Equation Has No Solution.\")\n",
    "else:\n",
    "    print(f\"X is {x} and Y is {y}.\")"
   ]
  },
  {
   "cell_type": "markdown",
   "metadata": {},
   "source": [
    "**4.4 (Game: learn addition) Write a program that generates two integers under 100 and prompts the user to enter the sum of these two integers. The program then reports true if the answer is correct, false otherwise. The program is similar to Listing 4.1."
   ]
  },
  {
   "cell_type": "code",
   "execution_count": 12,
   "metadata": {},
   "outputs": [
    {
     "name": "stdout",
     "output_type": "stream",
     "text": [
      "What is 28 + 98?34\n",
      "28 + 98 = 34 is False\n"
     ]
    }
   ],
   "source": [
    "import random\n",
    "\n",
    "# generating two random integers\n",
    "integer_1 = random.randint(0,100)\n",
    "integer_2 = random.randint(0,100)\n",
    "\n",
    "# Get user Input\n",
    "\n",
    "get_sum = eval(input(f\"What is {integer_1} + {integer_2}?\"))\n",
    "\n",
    "# Displaying result\n",
    "if integer_1 + integer_2 == get_sum:\n",
    "    print(f\"{integer_1} + {integer_2} = {get_sum} is {integer_1 + integer_2 == get_sum}\")\n",
    "else:\n",
    "    print(f\"{integer_1} + {integer_2} = {get_sum} is {integer_1 + integer_2 == get_sum}\")"
   ]
  },
  {
   "cell_type": "markdown",
   "metadata": {},
   "source": [
    "*4.5 (Find future dates) Write a program that prompts the user to enter an integer for today’s day of the week (Sunday is 0, Monday is 1, ..., and Saturday is 6). Also prompt the user to enter the number of days after today for a future day and display the future day of the week."
   ]
  },
  {
   "cell_type": "code",
   "execution_count": 18,
   "metadata": {},
   "outputs": [
    {
     "name": "stdout",
     "output_type": "stream",
     "text": [
      "Enter Today's Day:0\n",
      "Enter the number of days elapsed since today:31\n",
      "Today is Sunday and the future day is Wednesday\n"
     ]
    }
   ],
   "source": [
    "# get user input\n",
    "todays_day = eval(input(\"Enter Today's Day:\"))\n",
    "days_elapsed = eval(input(\"Enter the number of days elapsed since today:\"))\n",
    "\n",
    "# determine the current day\n",
    "future_day = (todays_day + days_elapsed) % 7\n",
    "x = \"\"\n",
    "\n",
    "if future_day == 0:\n",
    "    x = \"Sunday\"   \n",
    "elif future_day == 1:\n",
    "    x = \"Monday\"\n",
    "elif future_day == 2:\n",
    "    x = \"Tuesday\"\n",
    "elif future_day == 3:\n",
    "    x = \"Wednesday\"\n",
    "elif future_day == 4:\n",
    "    x = \"Thursday\"\n",
    "elif future_day == 5:\n",
    "    x = \"Friday\"\n",
    "elif future_day == 6:\n",
    "    x = \"Saturday\"\n",
    "\n",
    "if todays_day == 0:\n",
    "    todays_day = \"Sunday\"\n",
    "elif todays_day == 1:\n",
    "    todays_day = \"Monday\"\n",
    "elif todays_day == 2:\n",
    "    todays_day = \"Tuesday\"\n",
    "elif todays_day == 3:\n",
    "    todays_day = \"Wednesday\"\n",
    "elif todays_day == 4:\n",
    "    todays_day = \"Thursday\"\n",
    "elif todays_day == 5:\n",
    "    todays_day = \"Friday\"\n",
    "elif todays_day == 6:\n",
    "    todays_day = \"Saturday\"\n",
    "\n",
    "print(f\"Today is {todays_day} and the future day is {x}\")"
   ]
  },
  {
   "cell_type": "markdown",
   "metadata": {},
   "source": [
    "*4.6 (Health application: BMI ) Revise Listing 4.6, ComputeBMI.py, to let users enter their weight in pounds and their height in feet and inches. For example, if a person is 5 feet and 10 inches, you will enter 5 for feet and 10 for inches."
   ]
  },
  {
   "cell_type": "code",
   "execution_count": 7,
   "metadata": {},
   "outputs": [
    {
     "name": "stdout",
     "output_type": "stream",
     "text": [
      "Enter weight in pounds:140\n",
      "Enter feet:5\n",
      "Enter inches:10\n",
      "BMI is 20.087685889657493\n",
      "You are Normal\n"
     ]
    }
   ],
   "source": [
    "# get user input\n",
    "weight_in_pounds = eval(input(\"Enter weight in pounds:\"))\n",
    "feet = eval(input(\"Enter feet:\"))\n",
    "inches = eval(input(\"Enter inches:\"))\n",
    "\n",
    "weight_in_kg = weight_in_pounds * 0.453592\n",
    "feet_to_inches = feet * 12\n",
    "total_inches = feet_to_inches + inches\n",
    "height_in_meters = total_inches * 0.0254\n",
    "\n",
    "\n",
    "BMI = weight_in_kg / (height_in_meters ** 2)\n",
    "\n",
    "print(f\"BMI is {BMI}\")\n",
    "\n",
    "if BMI > 30.0:\n",
    "    print(\"You are Obese\")\n",
    "elif BMI > 25.0:\n",
    "    print(\"You are Overweight\")\n",
    "elif BMI > 18.5:\n",
    "    print(\"You are Normal\")\n",
    "elif BMI < 18.5:\n",
    "    print(\"You are Underweight\")    "
   ]
  },
  {
   "cell_type": "markdown",
   "metadata": {},
   "source": [
    "4.7 (Financial application: monetary units) Modify Listing 3.4, ComputeChange.py,\n",
    "to display the nonzero denominations only, using singular words for single units\n",
    "such as 1 dollar and 1 penny, and plural words for more than one unit such as 2\n",
    "dollars and 3 pennies."
   ]
  },
  {
   "cell_type": "code",
   "execution_count": 10,
   "metadata": {},
   "outputs": [
    {
     "name": "stdout",
     "output_type": "stream",
     "text": [
      "Your Amount 12.345 Consists of:\n",
      "\n",
      "\t 12 Dollars\n",
      "\n",
      "\t 1 Quater\n",
      "\n",
      "\t 1 Nickel\n",
      "\n",
      "\t 4 Pennies\n",
      "\n"
     ]
    }
   ],
   "source": [
    "# Recieve the amount\n",
    "amount = eval(input(\"Enter an amount, for example 11.56:\"))\n",
    "\n",
    "# Convert the amount to cents\n",
    "remaining_amount = int(amount * 100)\n",
    "\n",
    "# Find the number of dollars\n",
    "number_of_one_dollars = remaining_amount // 100\n",
    "remaining_amount = remaining_amount % 100\n",
    "\n",
    "#Find the numnber of quaters in the remaining amount\n",
    "number_of_quaters = remaining_amount // 25\n",
    "remaining_amount = remaining_amount % 25\n",
    "\n",
    "#find the number of dimes in the remaining amount\n",
    "number_of_dimes = remaining_amount // 10\n",
    "remaining_amount = remaining_amount % 10\n",
    "\n",
    "#find the number of nickels in the remaining amount\n",
    "number_of_nickels = remaining_amount // 5\n",
    "remaining_amount = remaining_amount % 5\n",
    "\n",
    "#find the number of pennies in the remaining amount\n",
    "number_of_pennies = remaining_amount\n",
    "\n",
    "print(f\"Your Amount {amount} Consists of:\\n\")\n",
    "\n",
    "if number_of_one_dollars != 0:\n",
    "    if number_of_one_dollars > 1:\n",
    "        print(f\"\\t {number_of_one_dollars} Dollars\\n\")\n",
    "    else:\n",
    "        print(f\"\\t {number_of_one_dollars} Dollar\\n\")\n",
    "if number_of_quaters != 0:\n",
    "    if number_of_quaters > 1:\n",
    "        print(f\"\\t {number_of_quaters} Quaters\\n\")\n",
    "    else:\n",
    "        print(f\"\\t {number_of_quaters} Quater\\n\")\n",
    "if number_of_dimes != 0:\n",
    "    if number_of_dimes > 1:\n",
    "        print(f\"\\t {number_of_dimes} Dimes\\n\")\n",
    "    else:\n",
    "        print(f\"\\t {number_of_dimes} Dime\\n\")\n",
    "if number_of_nickels != 0:\n",
    "    if number_of_nickels > 1:\n",
    "        print(f\"\\t {number_of_nickels} Nickels\\n\")\n",
    "    else:\n",
    "        print(f\"\\t {number_of_nickels} Nickel\\n\")\n",
    "if number_of_pennies != 0:\n",
    "    if number_of_pennies > 1:\n",
    "        print(f\"\\t {number_of_pennies} Pennies\\n\")\n",
    "    else:\n",
    "        print(f\"\\t {number_of_pennies} Penny\\n\")\n",
    "\n",
    "#displaying result\n",
    "#print(f\"Your Amount {amount} consist of:\\n \\\n",
    " #       \\t {number_of_one_dollars} dollars\\n \\\n",
    " #       \\t {number_of_quaters} quaters\\n \\\n",
    " #       \\t {number_of_dimes} dimes\\n \\\n",
    " #       \\t {number_of_nickels} nickels\\n \\\n",
    " #       \\t {number_of_pennies} pennies\")\n",
    "\n"
   ]
  },
  {
   "cell_type": "markdown",
   "metadata": {},
   "source": [
    "*4.8 (Sort three integers) Write a program that prompts the user to enter three integers\n",
    "and displays them in increasing order."
   ]
  },
  {
   "cell_type": "code",
   "execution_count": 15,
   "metadata": {},
   "outputs": [
    {
     "name": "stdout",
     "output_type": "stream",
     "text": [
      "2, 3, 4\n"
     ]
    }
   ],
   "source": [
    "num1 = eval(input(\"Enter Number 1:\"))\n",
    "num2 = eval(input(\"Enter Number 2:\"))\n",
    "num3 = eval(input(\"Enter Number 3:\"))\n",
    "\n",
    "if (num1 > num2) and (num1 > num3):\n",
    "    if num2 > num3:\n",
    "        print(f\"{num3}, {num2}, {num1}\")\n",
    "    else:\n",
    "        print(f\"{num2}, {num3}, {num1}\")\n",
    "if (num2 > num1) and (num2 > num3):\n",
    "    if num1 > num3:\n",
    "        print(f\"{num3}, {num1}, {num2}\")\n",
    "    else:\n",
    "        print(f\"{num1}, {num3}, {num2}\")\n",
    "if (num3 > num2) and (num3 > num1):\n",
    "    if num2 > num1:\n",
    "        print(f\"{num1}, {num2}, {num3}\")\n",
    "    else:\n",
    "        print(f\"{num2}, {num1}, {num3}\")"
   ]
  },
  {
   "cell_type": "markdown",
   "metadata": {},
   "source": [
    "*4.9 (Financial: compare costs) Suppose you shop for rice and find it in two different\u0002sized packages. You would like to write a program to compare the costs of the\n",
    "packages. The program prompts the user to enter the weight and price of each\n",
    "package and then displays the one with the better price."
   ]
  },
  {
   "cell_type": "code",
   "execution_count": 2,
   "metadata": {},
   "outputs": [
    {
     "name": "stdout",
     "output_type": "stream",
     "text": [
      "Enter Weight and Price for Package1:23, 50.4\n",
      "Enter Weight and Price for Package2:12, 45.3\n",
      "Package 2 has the better price.\n"
     ]
    }
   ],
   "source": [
    "weight_1, price_1 = eval(input(\"Enter Weight and Price for Package1:\"))\n",
    "weight_2, price_2 = eval(input(\"Enter Weight and Price for Package2:\"))\n",
    "\n",
    "price_per_kilo_1 = price_1 / weight_1\n",
    "price_per_kilo_2 = price_2 / weight_2\n",
    "if price_per_kilo_1 > price_per_kilo_2:\n",
    "    print(\"Package 1 has the better price.\")\n",
    "elif price_per_kilo_2 > price_per_kilo_1:\n",
    "    print(\"Package 2 has the better price.\")\n",
    "else:\n",
    "    price(\"Both Have Good Price.\")"
   ]
  },
  {
   "cell_type": "markdown",
   "metadata": {},
   "source": [
    "4.10 (Game: multiplication quiz) Listing 4.4, SubtractionQuiz.py, randomly generates\n",
    "a subtraction question. Revise the program to randomly generate a multiplication\n",
    "question with two integers less than 100."
   ]
  },
  {
   "cell_type": "code",
   "execution_count": 7,
   "metadata": {},
   "outputs": [
    {
     "name": "stdout",
     "output_type": "stream",
     "text": [
      "What is 28 * 22?34\n",
      "Wrong Answer! \n",
      " Correct Answer: 616\n"
     ]
    }
   ],
   "source": [
    "import random\n",
    "\n",
    "num_1 = random.randint(0,100)\n",
    "num_2 = random.randint(0,100)\n",
    "\n",
    "\n",
    "question = input(f\"What is {num_1} * {num_2}?\")\n",
    "\n",
    "if question == num_1 * num_2:\n",
    "    print(\"Correct Answer!\")\n",
    "else:\n",
    "    print(\"Wrong Answer! \\n\", \"Correct Answer:\",num_1*num_2)"
   ]
  },
  {
   "cell_type": "markdown",
   "metadata": {},
   "source": [
    "*4.11 (Find the number of days in a month) Write a program that prompts the user to\n",
    "enter the month and year and displays the number of days in the month. \n",
    "For example, if the user entered month 2 and year 2000, the program should display that\n",
    "February 2000 has 29 days. If the user entered month 3 and year 2005, the program should display that March 2005 has 31 days."
   ]
  },
  {
   "cell_type": "code",
   "execution_count": null,
   "metadata": {},
   "outputs": [],
   "source": [
    "month, year = eval(input(\"Enter Month and Year:\"))\n",
    "\n",
    "if month == 2:\n",
    "    if (year % 4 == 0 and year % 100 != 0):\n",
    "        print(f\"February {year} has 29 days.\")\n",
    "    else:\n",
    "        print(f\"February {year} has 28 days.\")\n",
    "    "
   ]
  }
 ],
 "metadata": {
  "kernelspec": {
   "display_name": "Python 3",
   "language": "python",
   "name": "python3"
  },
  "language_info": {
   "codemirror_mode": {
    "name": "ipython",
    "version": 3
   },
   "file_extension": ".py",
   "mimetype": "text/x-python",
   "name": "python",
   "nbconvert_exporter": "python",
   "pygments_lexer": "ipython3",
   "version": "3.8.5"
  }
 },
 "nbformat": 4,
 "nbformat_minor": 4
}
