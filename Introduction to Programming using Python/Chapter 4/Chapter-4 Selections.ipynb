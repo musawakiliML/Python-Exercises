{
 "cells": [
  {
   "cell_type": "markdown",
   "metadata": {},
   "source": [
    "# Programming Exercises"
   ]
  },
  {
   "cell_type": "markdown",
   "metadata": {},
   "source": [
    "*4.1 (Algebra: solve quadratic equations) The two roots of a quadratic equation, for example, ax2 + bx + c = 0, can be obtained using the following formula:\n",
    "        \n",
    "        r1 = -b + sqrt(b^2 - 4*a*c) / 2*a and r2 = -b - sqrt(b^2 - 4*a*c) / 2*a\n",
    "        \n",
    "b^2 - 4*a*c is called the discriminant of the quadratic equation. If it is positive, the equation has two real roots. If it is zero, the equation has one root. If it is negative, the equation has no real roots.\n",
    "\n",
    "Write a program that prompts the user to enter values for a, b, and c and displays the result based on the discriminant. If the discriminant is positive, display two roots. If the discriminant is 0, display one root. Otherwise, display The equa- tion has no real roots. "
   ]
  },
  {
   "cell_type": "code",
   "execution_count": 6,
   "metadata": {},
   "outputs": [
    {
     "name": "stdout",
     "output_type": "stream",
     "text": [
      "Enter a:1.0\n",
      "Enter b:3\n",
      "Enter c:1\n",
      "The Equations Has Two Real Roots -0.3819660112501051 and -2.618033988749895.\n"
     ]
    }
   ],
   "source": [
    "import math \n",
    "\n",
    "# Get user input\n",
    "a = eval(input(\"Enter a:\"))\n",
    "b = eval(input(\"Enter b:\"))\n",
    "c = eval(input(\"Enter c:\"))\n",
    "\n",
    "# Compute the discriminant and the Roots\n",
    "r_1 = (-b + math.sqrt(math.pow(b,2) - 4 * a * c)) / (2 * a)\n",
    "r_2 = (-b - math.sqrt(math.pow(b,2) - 4 * a * c)) / (2 * a)\n",
    "\n",
    "discriminant = math.pow(b,2) - 4 * a * c\n",
    "\n",
    "# Displaying results using If selections\n",
    "if discriminant > 0:\n",
    "    print(f\"The Equations Has Two Real Roots {r_1} and {r_2}.\")\n",
    "    \n",
    "elif discriminant == 0:\n",
    "    print(f\"The Equation Has One Root {r_1}.\")\n",
    "    \n",
    "else:\n",
    "    print(\"The Equation Has No Real Roots.\")\n",
    "    "
   ]
  },
  {
   "cell_type": "markdown",
   "metadata": {},
   "source": [
    "*4.2 (Game: add three numbers) The program in Listing 4.1 generates two integers and prompts the user to enter the sum of these two integers. Revise the program to generate three single-digit integers and prompt the user to enter the sum of these three integers."
   ]
  },
  {
   "cell_type": "code",
   "execution_count": 9,
   "metadata": {},
   "outputs": [
    {
     "name": "stdout",
     "output_type": "stream",
     "text": [
      "What is 1 + 9 + 4?12\n",
      "1 + 9 + 4 = 12 is False\n"
     ]
    }
   ],
   "source": [
    "import random\n",
    "\n",
    "# get random numbers\n",
    "number_1 = random.randint(0,9)\n",
    "number_2 = random.randint(0,9)\n",
    "number_3 = random.randint(0,9)\n",
    "\n",
    "# Display question and accept user input\n",
    "answer = eval(input(f\"What is {number_1} + {number_2} + {number_3}?\"))\n",
    "\n",
    "# compare answer and display result\n",
    "if number_1 + number_2 + number_3 == answer:\n",
    "    print(f\"{number_1} + {number_2} + {number_3} = {answer} is {number_1 + number_2 + number_3 == answer}\")\n",
    "else:\n",
    "    print(f\"{number_1} + {number_2} + {number_3} = {answer} is {number_1 + number_2 + number_3 == answer}\")"
   ]
  },
  {
   "cell_type": "markdown",
   "metadata": {},
   "source": [
    "*4.3 (Algebra: Solve 2 x 2 Linear Eqautions) You can use the Cramer's to solve the following 2 x 2 system of linear equation:\n",
    "        \n",
    "        ax + by = e      x = (ed - bf) / (ad - bc)\n",
    "        cx + dy = f      y = (af - ec) / (ad - bc)\n",
    "        \n",
    "Write a program that prompts the user to enter a,b,c,d,e, and f and display the result. If ad - bc = 0,report that The Equation has no solution."
   ]
  },
  {
   "cell_type": "code",
   "execution_count": 10,
   "metadata": {},
   "outputs": [
    {
     "name": "stdout",
     "output_type": "stream",
     "text": [
      "Enter a, b, c, d, e, f:9.0,4.0,3.0,-5.0,-6.0,-21.0\n",
      "X is -2.0 and Y is 3.0.\n"
     ]
    }
   ],
   "source": [
    "# Get User Input\n",
    "a, b, c, d, e, f = eval(input(\"Enter a, b, c, d, e, f:\"))\n",
    "\n",
    "# Calculating the values of x and y\n",
    "x = (e * d - b * f) / (a * d - b * c)\n",
    "y = (a * f - e * c) / (a * d - b * c)\n",
    "\n",
    "if (a * d - b * c) == 0:\n",
    "    print(\"The Equation Has No Solution.\")\n",
    "else:\n",
    "    print(f\"X is {x} and Y is {y}.\")"
   ]
  },
  {
   "cell_type": "markdown",
   "metadata": {},
   "source": [
    "**4.4 (Game: learn addition) Write a program that generates two integers under 100 and prompts the user to enter the sum of these two integers. The program then reports true if the answer is correct, false otherwise. The program is similar to Listing 4.1."
   ]
  },
  {
   "cell_type": "code",
   "execution_count": 11,
   "metadata": {},
   "outputs": [
    {
     "name": "stdout",
     "output_type": "stream",
     "text": [
      "What is 76 + 18?34\n",
      "76 + 18 = 34 is 76 + 18 == 34\n"
     ]
    }
   ],
   "source": [
    "import random\n",
    "\n",
    "# generating two random integers\n",
    "integer_1 = random.randint(0,100)\n",
    "integer_2 = random.randint(0,100)\n",
    "\n",
    "# Get user Input\n",
    "\n",
    "get_sum = eval(input(f\"What is {integer_1} + {integer_2}?\"))\n",
    "\n",
    "# Displaying result\n",
    "if integer_1 + integer_2 == get_sum:\n",
    "    print(f\"{integer_1} + {integer_2} = {get_sum} is {integer_1} + {integer_2} == {get_sum}\")\n",
    "else:\n",
    "    print(f\"{integer_1} + {integer_2} = {get_sum} is {integer_1} + {integer_2} == {get_sum}\")"
   ]
  },
  {
   "cell_type": "code",
   "execution_count": null,
   "metadata": {},
   "outputs": [],
   "source": []
  }
 ],
 "metadata": {
  "kernelspec": {
   "display_name": "Python 3",
   "language": "python",
   "name": "python3"
  },
  "language_info": {
   "codemirror_mode": {
    "name": "ipython",
    "version": 3
   },
   "file_extension": ".py",
   "mimetype": "text/x-python",
   "name": "python",
   "nbconvert_exporter": "python",
   "pygments_lexer": "ipython3",
   "version": "3.8.5"
  }
 },
 "nbformat": 4,
 "nbformat_minor": 4
}
