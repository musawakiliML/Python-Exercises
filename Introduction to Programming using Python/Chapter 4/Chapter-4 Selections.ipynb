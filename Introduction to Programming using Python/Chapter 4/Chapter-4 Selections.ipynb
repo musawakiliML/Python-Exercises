{
 "cells": [
  {
   "cell_type": "markdown",
   "metadata": {},
   "source": [
    "# Programming Exercises"
   ]
  },
  {
   "cell_type": "markdown",
   "metadata": {},
   "source": [
    "*4.1 (Algebra: solve quadratic equations) The two roots of a quadratic equation, for example, ax2 + bx + c = 0, can be obtained using the following formula:\n",
    "        \n",
    "        r1 = -b + sqrt(b^2 - 4*a*c) / 2*a and r2 = -b - sqrt(b^2 - 4*a*c) / 2*a\n",
    "        \n",
    "b^2 - 4*a*c is called the discriminant of the quadratic equation. If it is positive, the equation has two real roots. If it is zero, the equation has one root. If it is negative, the equation has no real roots.\n",
    "\n",
    "Write a program that prompts the user to enter values for a, b, and c and displays the result based on the discriminant. If the discriminant is positive, display two roots. If the discriminant is 0, display one root. Otherwise, display The equa- tion has no real roots. "
   ]
  },
  {
   "cell_type": "code",
   "execution_count": 6,
   "metadata": {},
   "outputs": [
    {
     "name": "stdout",
     "output_type": "stream",
     "text": [
      "Enter a:1.0\n",
      "Enter b:3\n",
      "Enter c:1\n",
      "The Equations Has Two Real Roots -0.3819660112501051 and -2.618033988749895.\n"
     ]
    }
   ],
   "source": [
    "import math \n",
    "\n",
    "# Get user input\n",
    "a = eval(input(\"Enter a:\"))\n",
    "b = eval(input(\"Enter b:\"))\n",
    "c = eval(input(\"Enter c:\"))\n",
    "\n",
    "# Compute the discriminant and the Roots\n",
    "r_1 = (-b + math.sqrt(math.pow(b,2) - 4 * a * c)) / (2 * a)\n",
    "r_2 = (-b - math.sqrt(math.pow(b,2) - 4 * a * c)) / (2 * a)\n",
    "\n",
    "discriminant = math.pow(b,2) - 4 * a * c\n",
    "\n",
    "# Displaying results using If selections\n",
    "if discriminant > 0:\n",
    "    print(f\"The Equations Has Two Real Roots {r_1} and {r_2}.\")\n",
    "    \n",
    "elif discriminant == 0:\n",
    "    print(f\"The Equation Has One Root {r_1}.\")\n",
    "    \n",
    "else:\n",
    "    print(\"The Equation Has No Real Roots.\")\n",
    "    "
   ]
  },
  {
   "cell_type": "markdown",
   "metadata": {},
   "source": [
    "*4.2 (Game: add three numbers) The program in Listing 4.1 generates two integers and prompts the user to enter the sum of these two integers. Revise the program to generate three single-digit integers and prompt the user to enter the sum of these three integers."
   ]
  },
  {
   "cell_type": "code",
   "execution_count": null,
   "metadata": {},
   "outputs": [],
   "source": [
    "import random\n",
    "\n",
    "# get random numbers\n",
    "number_1 = random.randint(0,9)\n",
    "number_2 = random.randint(0,9)\n",
    "number_3 = random.randint(0,9)\n",
    "\n"
   ]
  }
 ],
 "metadata": {
  "kernelspec": {
   "display_name": "Python 3",
   "language": "python",
   "name": "python3"
  },
  "language_info": {
   "codemirror_mode": {
    "name": "ipython",
    "version": 3
   },
   "file_extension": ".py",
   "mimetype": "text/x-python",
   "name": "python",
   "nbconvert_exporter": "python",
   "pygments_lexer": "ipython3",
   "version": "3.8.5"
  }
 },
 "nbformat": 4,
 "nbformat_minor": 4
}
